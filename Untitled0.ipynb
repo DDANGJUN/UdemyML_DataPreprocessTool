{
  "nbformat": 4,
  "nbformat_minor": 0,
  "metadata": {
    "colab": {
      "provenance": [],
      "mount_file_id": "10gJYrEig51EP2WjXQ3Z-KhNA6jXsBzSD",
      "authorship_tag": "ABX9TyMs3343oDYRLAEDXHLK8uHq",
      "include_colab_link": true
    },
    "kernelspec": {
      "name": "python3",
      "display_name": "Python 3"
    },
    "language_info": {
      "name": "python"
    }
  },
  "cells": [
    {
      "cell_type": "markdown",
      "metadata": {
        "id": "view-in-github",
        "colab_type": "text"
      },
      "source": [
        "<a href=\"https://colab.research.google.com/github/DDANGJUN/UdemyML_DataPreprocessTool/blob/main/Untitled0.ipynb\" target=\"_parent\"><img src=\"https://colab.research.google.com/assets/colab-badge.svg\" alt=\"Open In Colab\"/></a>"
      ]
    },
    {
      "cell_type": "markdown",
      "source": [
        "### **import library**"
      ],
      "metadata": {
        "id": "Qz_dUhX12TSA"
      }
    },
    {
      "cell_type": "code",
      "execution_count": null,
      "metadata": {
        "id": "xMqt7WMNU6n4"
      },
      "outputs": [],
      "source": [
        "import numpy as np\n",
        "import matplotlib.pyplot as plt\n",
        "import pandas as pd"
      ]
    },
    {
      "cell_type": "markdown",
      "source": [
        "### **import dataset**"
      ],
      "metadata": {
        "id": "7nGgcRrD3coG"
      }
    },
    {
      "cell_type": "code",
      "source": [
        "dataSet = pd.read_csv('Data.csv')\n",
        "x = dataSet.iloc[:, :-1].values # ':' -> 모든 가로행의 값을 불러옴 / ':-1' -> 0부터 -2 인덱스까지의 세로열의 값을 불러옴(마지막 열은 불러오지 않음)\n",
        "y = dataSet.iloc[:, -1 ].values # x -> 특성행렬 / y -> 종속변수벡터"
      ],
      "metadata": {
        "id": "dEb4XdbN3ZUv"
      },
      "execution_count": null,
      "outputs": []
    },
    {
      "cell_type": "code",
      "source": [
        "print(x) # 결측 데이터(공백)은 nan으로 표시됨"
      ],
      "metadata": {
        "id": "_CaXo6wa7Vrm",
        "colab": {
          "base_uri": "https://localhost:8080/"
        },
        "outputId": "e453c19a-9fed-4b76-d710-09f1e2039951"
      },
      "execution_count": null,
      "outputs": [
        {
          "output_type": "stream",
          "name": "stdout",
          "text": [
            "[['France' 44.0 72000.0]\n",
            " ['Spain' 27.0 48000.0]\n",
            " ['Germany' 30.0 54000.0]\n",
            " ['Spain' 38.0 61000.0]\n",
            " ['Germany' 40.0 nan]\n",
            " ['France' 35.0 58000.0]\n",
            " ['Spain' nan 52000.0]\n",
            " ['France' 48.0 79000.0]\n",
            " ['Germany' 50.0 83000.0]\n",
            " ['France' 37.0 67000.0]]\n"
          ]
        }
      ]
    },
    {
      "cell_type": "code",
      "source": [
        "print(y)"
      ],
      "metadata": {
        "colab": {
          "base_uri": "https://localhost:8080/"
        },
        "id": "t_R00dEc8W7a",
        "outputId": "a8c3894d-4563-4bb1-a72a-e26e5c415812"
      },
      "execution_count": null,
      "outputs": [
        {
          "output_type": "stream",
          "name": "stdout",
          "text": [
            "['No' 'Yes' 'No' 'No' 'Yes' 'Yes' 'No' 'Yes' 'No' 'Yes']\n"
          ]
        }
      ]
    },
    {
      "cell_type": "markdown",
      "source": [
        "### **결측값 처리**"
      ],
      "metadata": {
        "id": "w60oF2ry83r2"
      }
    },
    {
      "cell_type": "markdown",
      "source": [
        "결측 데이터를 처리하는데에는 여러 방법이 있다.\n",
        "- 대량의 데이터를 보유하고 있다면 결측 인덱스가 있는 행을 지운다.\n",
        "- 결측 데이터의 값을 동일 열의 모든 값의 평균으로 넣는다."
      ],
      "metadata": {
        "id": "VHsdX0qj9Kv-"
      }
    },
    {
      "cell_type": "code",
      "source": [
        "from sklearn.impute import SimpleImputer\n",
        "\n",
        "imputer = SimpleImputer(missing_values = np.nan, strategy = 'mean') #결측 데이터는 np.nan이고, 평균값으로 채운다\n",
        "imputer.fit(x[: , 1:3]) # fit함수로 위 파라미터에 맞게 결측 값을 계산\n",
        "x[:, 1:3] = imputer.transform(x[:, 1:3]) # x 배열에 계산한 값을 저장"
      ],
      "metadata": {
        "id": "B0vwJgzN9kBu"
      },
      "execution_count": null,
      "outputs": []
    },
    {
      "cell_type": "code",
      "source": [
        "print(x)"
      ],
      "metadata": {
        "colab": {
          "base_uri": "https://localhost:8080/"
        },
        "id": "I3VyZlHH_2St",
        "outputId": "07b121b9-849a-4609-e1f5-857c19c1a936"
      },
      "execution_count": null,
      "outputs": [
        {
          "output_type": "stream",
          "name": "stdout",
          "text": [
            "[['France' 44.0 72000.0]\n",
            " ['Spain' 27.0 48000.0]\n",
            " ['Germany' 30.0 54000.0]\n",
            " ['Spain' 38.0 61000.0]\n",
            " ['Germany' 40.0 63777.77777777778]\n",
            " ['France' 35.0 58000.0]\n",
            " ['Spain' 38.77777777777778 52000.0]\n",
            " ['France' 48.0 79000.0]\n",
            " ['Germany' 50.0 83000.0]\n",
            " ['France' 37.0 67000.0]]\n"
          ]
        }
      ]
    },
    {
      "cell_type": "markdown",
      "source": [
        "### **독립 변수 인코딩**"
      ],
      "metadata": {
        "id": "B7eJ3NzrExeF"
      }
    },
    {
      "cell_type": "markdown",
      "source": [
        "Data의 Country열 값을 문자가 아닌 숫자로 변환한다.\n",
        "만약 France = 0, Spain = 1, Germany = 2로 표현한다면 컴퓨터는 대입한 숫자들을 중요도로 판단 할 수 있기에 값의 종류만큼의 배열을 만들어 [1,0,0], [0,1,0], [0,0,1]과 같이 표현한다. (-> 원핫인코딩)\n"
      ],
      "metadata": {
        "id": "MwhYiLivK4pb"
      }
    },
    {
      "cell_type": "code",
      "source": [
        "from sklearn.compose import ColumnTransformer\n",
        "from sklearn.preprocessing import OneHotEncoder\n",
        "\n",
        "ct = ColumnTransformer(transformers=[('encoder', OneHotEncoder(), [0])], remainder='passthrough')\n",
        "x = np.array(ct.fit_transform(x))"
      ],
      "metadata": {
        "id": "aWARZsghFNdQ"
      },
      "execution_count": null,
      "outputs": []
    },
    {
      "cell_type": "code",
      "source": [
        "print(x)"
      ],
      "metadata": {
        "colab": {
          "base_uri": "https://localhost:8080/"
        },
        "id": "1eO7lXywL6yZ",
        "outputId": "9be91d52-afab-4533-e937-353fe976a105"
      },
      "execution_count": null,
      "outputs": [
        {
          "output_type": "stream",
          "name": "stdout",
          "text": [
            "[[1.0 0.0 0.0 44.0 72000.0]\n",
            " [0.0 0.0 1.0 27.0 48000.0]\n",
            " [0.0 1.0 0.0 30.0 54000.0]\n",
            " [0.0 0.0 1.0 38.0 61000.0]\n",
            " [0.0 1.0 0.0 40.0 63777.77777777778]\n",
            " [1.0 0.0 0.0 35.0 58000.0]\n",
            " [0.0 0.0 1.0 38.77777777777778 52000.0]\n",
            " [1.0 0.0 0.0 48.0 79000.0]\n",
            " [0.0 1.0 0.0 50.0 83000.0]\n",
            " [1.0 0.0 0.0 37.0 67000.0]]\n"
          ]
        }
      ]
    },
    {
      "cell_type": "markdown",
      "source": [
        "### **종속 변수 인코딩**"
      ],
      "metadata": {
        "id": "uysJk6xdVtgS"
      }
    },
    {
      "cell_type": "markdown",
      "source": [
        "마지막 열인 Purchased 유무를 Yes = 1, No = 0으로 변환한다."
      ],
      "metadata": {
        "id": "hvraH-xkWY4u"
      }
    },
    {
      "cell_type": "code",
      "source": [
        "from sklearn.preprocessing import LabelEncoder\n",
        "\n",
        "le = LabelEncoder()\n",
        "y = le.fit_transform(y)"
      ],
      "metadata": {
        "id": "ZFNWvfBoVy3p"
      },
      "execution_count": null,
      "outputs": []
    },
    {
      "cell_type": "code",
      "source": [
        "print(y)"
      ],
      "metadata": {
        "colab": {
          "base_uri": "https://localhost:8080/"
        },
        "id": "R6i1Td5jWPad",
        "outputId": "27e3e7ab-1f38-4c7a-d916-19400db8edfa"
      },
      "execution_count": null,
      "outputs": [
        {
          "output_type": "stream",
          "name": "stdout",
          "text": [
            "[0 1 0 0 1 1 0 1 0 1]\n"
          ]
        }
      ]
    },
    {
      "cell_type": "markdown",
      "source": [
        "### **데이터 나누기**"
      ],
      "metadata": {
        "id": "OT7TghgdXbN8"
      }
    },
    {
      "cell_type": "markdown",
      "source": [
        "데이터는 테스트Set과 훈련Set으로 나눈 후 작업해야한다. 데이터를 학습 시킬 때엔 훈련Set을 이용하고, 프로그램을 테스트 할 때 훈련Set에서 사용되지 않은 테스트Set을 사용해야한다."
      ],
      "metadata": {
        "id": "89y7FK9LXgGV"
      }
    },
    {
      "cell_type": "code",
      "source": [
        "from sklearn.model_selection import train_test_split\n",
        "\n",
        "x_train, x_test, y_train, y_test = train_test_split(x, y, test_size = 0.2, random_state = 1)"
      ],
      "metadata": {
        "id": "UQhhoNbMXw-h"
      },
      "execution_count": null,
      "outputs": []
    },
    {
      "cell_type": "code",
      "source": [
        "print(x_train)"
      ],
      "metadata": {
        "colab": {
          "base_uri": "https://localhost:8080/"
        },
        "id": "s3amoYEHbIP4",
        "outputId": "129f21a6-d34a-4ed5-8ab2-67eeae8f2df0"
      },
      "execution_count": null,
      "outputs": [
        {
          "output_type": "stream",
          "name": "stdout",
          "text": [
            "[[0.0 0.0 1.0 38.77777777777778 52000.0]\n",
            " [0.0 1.0 0.0 40.0 63777.77777777778]\n",
            " [1.0 0.0 0.0 44.0 72000.0]\n",
            " [0.0 0.0 1.0 38.0 61000.0]\n",
            " [0.0 0.0 1.0 27.0 48000.0]\n",
            " [1.0 0.0 0.0 48.0 79000.0]\n",
            " [0.0 1.0 0.0 50.0 83000.0]\n",
            " [1.0 0.0 0.0 35.0 58000.0]]\n"
          ]
        }
      ]
    },
    {
      "cell_type": "code",
      "source": [
        "print(y_train)"
      ],
      "metadata": {
        "colab": {
          "base_uri": "https://localhost:8080/"
        },
        "id": "6t8uFmtRbKHD",
        "outputId": "51174aac-5e54-446d-e246-b090b613bc1f"
      },
      "execution_count": null,
      "outputs": [
        {
          "output_type": "stream",
          "name": "stdout",
          "text": [
            "[0 1 0 0 1 1 0 1]\n"
          ]
        }
      ]
    },
    {
      "cell_type": "code",
      "source": [
        "print(x_test)"
      ],
      "metadata": {
        "colab": {
          "base_uri": "https://localhost:8080/"
        },
        "id": "J25eTI5TbKN0",
        "outputId": "4bd622ad-1cd7-48c9-eb79-4a40d7dd1fbf"
      },
      "execution_count": null,
      "outputs": [
        {
          "output_type": "stream",
          "name": "stdout",
          "text": [
            "[[0.0 1.0 0.0 30.0 54000.0]\n",
            " [1.0 0.0 0.0 37.0 67000.0]]\n"
          ]
        }
      ]
    },
    {
      "cell_type": "code",
      "source": [
        "print(y_test)"
      ],
      "metadata": {
        "colab": {
          "base_uri": "https://localhost:8080/"
        },
        "id": "W7ZzkGAObKUc",
        "outputId": "9b4034d9-d016-4165-906e-bb30c1131a68"
      },
      "execution_count": null,
      "outputs": [
        {
          "output_type": "stream",
          "name": "stdout",
          "text": [
            "[0 1]\n"
          ]
        }
      ]
    },
    {
      "cell_type": "markdown",
      "source": [
        "### **특성 스케일링**"
      ],
      "metadata": {
        "id": "gDwrj4caiiZb"
      }
    },
    {
      "cell_type": "markdown",
      "source": [
        "데이터의 값들을 일정 범위 내로 맞추는 프로세스이다. 아래의 결과값은 -2 ~ 2 이내의 숫자들로 변환되었다.\n",
        "\n",
        "x_train은 fit_transfrom을 사용하여 머신러닝 학습에 사용하지만,\n",
        "x_test는 머신러닝 학습에 사용되면 안되기에 transfrom만 사용한다."
      ],
      "metadata": {
        "id": "xbIqZpA2BgMw"
      }
    },
    {
      "cell_type": "code",
      "source": [
        "from sklearn.preprocessing import StandardScaler\n",
        "\n",
        "sc = StandardScaler()\n",
        "x_train[:, 3:] = sc.fit_transform(x_train[:, 3:])\n",
        "x_test[:, 3:] = sc.transform(x_test[:, 3:])"
      ],
      "metadata": {
        "id": "Gpduu6y2imN-"
      },
      "execution_count": null,
      "outputs": []
    },
    {
      "cell_type": "code",
      "source": [
        "print(x_train)"
      ],
      "metadata": {
        "colab": {
          "base_uri": "https://localhost:8080/"
        },
        "id": "DW8H-u0Knp3O",
        "outputId": "e91584e6-9cb1-4751-8c73-af298a9bb818"
      },
      "execution_count": null,
      "outputs": [
        {
          "output_type": "stream",
          "name": "stdout",
          "text": [
            "[[0.0 0.0 1.0 -0.1915918438457856 -1.0781259408412427]\n",
            " [0.0 1.0 0.0 -0.014117293757057902 -0.07013167641635401]\n",
            " [1.0 0.0 0.0 0.5667085065333239 0.6335624327104546]\n",
            " [0.0 0.0 1.0 -0.3045301939022488 -0.30786617274297895]\n",
            " [0.0 0.0 1.0 -1.901801144700799 -1.4204636155515822]\n",
            " [1.0 0.0 0.0 1.1475343068237056 1.2326533634535488]\n",
            " [0.0 1.0 0.0 1.4379472069688966 1.5749910381638883]\n",
            " [1.0 0.0 0.0 -0.7401495441200352 -0.5646194287757336]]\n"
          ]
        }
      ]
    },
    {
      "cell_type": "code",
      "source": [
        "print(x_test)"
      ],
      "metadata": {
        "colab": {
          "base_uri": "https://localhost:8080/"
        },
        "id": "heHwaANznp5g",
        "outputId": "8da1aa14-7424-49f2-d4a8-9b77dc0b33ab"
      },
      "execution_count": null,
      "outputs": [
        {
          "output_type": "stream",
          "name": "stdout",
          "text": [
            "[[0.0 1.0 0.0 -1.4661817944830127 -0.9069571034860731]\n",
            " [1.0 0.0 0.0 -0.44973664397484425 0.20564033932253029]]\n"
          ]
        }
      ]
    }
  ]
}